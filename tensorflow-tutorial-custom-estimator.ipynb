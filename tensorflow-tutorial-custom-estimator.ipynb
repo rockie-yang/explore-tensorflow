{
 "cells": [
  {
   "cell_type": "code",
   "execution_count": 1,
   "metadata": {
    "collapsed": true
   },
   "outputs": [],
   "source": [
    "import numpy as np\n",
    "import tensorflow as tf\n",
    "\n",
    "# Declare list of features, we only have one real-valued feature\n",
    "def model_fn(features, labels, mode):\n",
    "  # Build a linear model and predict values\n",
    "  W = tf.get_variable(\"W\", [1], dtype=tf.float64)\n",
    "  b = tf.get_variable(\"b\", [1], dtype=tf.float64)\n",
    "  y = W*features['x'] + b\n",
    "  # Loss sub-graph\n",
    "  loss = tf.reduce_sum(tf.square(y - labels))\n",
    "  # Training sub-graph\n",
    "  global_step = tf.train.get_global_step()\n",
    "  optimizer = tf.train.GradientDescentOptimizer(0.01)\n",
    "  train = tf.group(optimizer.minimize(loss),\n",
    "                   tf.assign_add(global_step, 1))\n",
    "  # EstimatorSpec connects subgraphs we built to the\n",
    "  # appropriate functionality.\n",
    "  return tf.estimator.EstimatorSpec(\n",
    "      mode=mode,\n",
    "      predictions=y,\n",
    "      loss=loss,\n",
    "      train_op=train)"
   ]
  },
  {
   "cell_type": "code",
   "execution_count": 3,
   "metadata": {
    "collapsed": true
   },
   "outputs": [],
   "source": [
    "global_step = tf.train.get_global_step()"
   ]
  },
  {
   "cell_type": "code",
   "execution_count": 5,
   "metadata": {
    "collapsed": true
   },
   "outputs": [],
   "source": [
    "# define our data sets\n",
    "x_train = np.array([1., 2., 3., 4.])\n",
    "y_train = np.array([0., -1., -2., -3.])\n",
    "x_eval = np.array([2., 5., 8., 1.])\n",
    "y_eval = np.array([-1.01, -4.1, -7., 0.])"
   ]
  },
  {
   "cell_type": "code",
   "execution_count": 6,
   "metadata": {},
   "outputs": [
    {
     "name": "stdout",
     "output_type": "stream",
     "text": [
      "INFO:tensorflow:Using default config.\n",
      "WARNING:tensorflow:Using temporary folder as model directory: /tmp/tmpkcn6jmy4\n",
      "INFO:tensorflow:Using config: {'_model_dir': '/tmp/tmpkcn6jmy4', '_tf_random_seed': 1, '_save_summary_steps': 100, '_save_checkpoints_secs': 600, '_save_checkpoints_steps': None, '_session_config': None, '_keep_checkpoint_max': 5, '_keep_checkpoint_every_n_hours': 10000, '_log_step_count_steps': 100}\n"
     ]
    }
   ],
   "source": [
    "estimator = tf.estimator.Estimator(model_fn=model_fn)"
   ]
  },
  {
   "cell_type": "code",
   "execution_count": 7,
   "metadata": {
    "collapsed": true
   },
   "outputs": [],
   "source": [
    "input_fn = tf.estimator.inputs.numpy_input_fn(\n",
    "    {\"x\": x_train}, y_train, batch_size=4, num_epochs=None, shuffle=True)\n",
    "train_input_fn = tf.estimator.inputs.numpy_input_fn(\n",
    "    {\"x\": x_train}, y_train, batch_size=4, num_epochs=1000, shuffle=False)\n",
    "eval_input_fn = tf.estimator.inputs.numpy_input_fn(\n",
    "    {\"x\": x_eval}, y_eval, batch_size=4, num_epochs=1000, shuffle=False)"
   ]
  },
  {
   "cell_type": "code",
   "execution_count": 8,
   "metadata": {},
   "outputs": [
    {
     "name": "stdout",
     "output_type": "stream",
     "text": [
      "INFO:tensorflow:Create CheckpointSaverHook.\n",
      "INFO:tensorflow:Saving checkpoints for 1 into /tmp/tmpkcn6jmy4/model.ckpt.\n",
      "INFO:tensorflow:loss = 17.3073748566, step = 1\n",
      "INFO:tensorflow:global_step/sec: 1558.13\n",
      "INFO:tensorflow:loss = 0.0364078918069, step = 101 (0.066 sec)\n",
      "INFO:tensorflow:global_step/sec: 1488.59\n",
      "INFO:tensorflow:loss = 0.00378274781629, step = 201 (0.068 sec)\n",
      "INFO:tensorflow:global_step/sec: 1485.2\n",
      "INFO:tensorflow:loss = 7.23374107377e-05, step = 301 (0.068 sec)\n",
      "INFO:tensorflow:global_step/sec: 1455.21\n",
      "INFO:tensorflow:loss = 1.90143284226e-05, step = 401 (0.068 sec)\n",
      "INFO:tensorflow:global_step/sec: 1442.02\n",
      "INFO:tensorflow:loss = 1.52184569628e-06, step = 501 (0.069 sec)\n",
      "INFO:tensorflow:global_step/sec: 1373.83\n",
      "INFO:tensorflow:loss = 3.50634933162e-07, step = 601 (0.073 sec)\n",
      "INFO:tensorflow:global_step/sec: 1393.39\n",
      "INFO:tensorflow:loss = 7.17904133775e-09, step = 701 (0.071 sec)\n",
      "INFO:tensorflow:global_step/sec: 1428.12\n",
      "INFO:tensorflow:loss = 1.49322596119e-09, step = 801 (0.070 sec)\n",
      "INFO:tensorflow:global_step/sec: 1367.55\n",
      "INFO:tensorflow:loss = 1.18871620238e-10, step = 901 (0.074 sec)\n",
      "INFO:tensorflow:Saving checkpoints for 1000 into /tmp/tmpkcn6jmy4/model.ckpt.\n",
      "INFO:tensorflow:Loss for final step: 1.03035405277e-11.\n"
     ]
    },
    {
     "data": {
      "text/plain": [
       "<tensorflow.python.estimator.estimator.Estimator at 0x7fa98a013f60>"
      ]
     },
     "execution_count": 8,
     "metadata": {},
     "output_type": "execute_result"
    }
   ],
   "source": [
    "# train\n",
    "estimator.train(input_fn=input_fn, steps=1000)"
   ]
  },
  {
   "cell_type": "code",
   "execution_count": 9,
   "metadata": {},
   "outputs": [
    {
     "name": "stdout",
     "output_type": "stream",
     "text": [
      "INFO:tensorflow:Starting evaluation at 2017-11-21-04:13:59\n",
      "INFO:tensorflow:Restoring parameters from /tmp/tmpkcn6jmy4/model.ckpt-1000\n",
      "INFO:tensorflow:Finished evaluation at 2017-11-21-04:13:59\n",
      "INFO:tensorflow:Saving dict for global step 1000: global_step = 1000, loss = 1.18803e-11\n",
      "INFO:tensorflow:Starting evaluation at 2017-11-21-04:14:00\n",
      "INFO:tensorflow:Restoring parameters from /tmp/tmpkcn6jmy4/model.ckpt-1000\n",
      "INFO:tensorflow:Finished evaluation at 2017-11-21-04:14:00\n",
      "INFO:tensorflow:Saving dict for global step 1000: global_step = 1000, loss = 0.0101004\n",
      "train metrics: {'loss': 1.1880279e-11, 'global_step': 1000}\n",
      "eval metrics: {'loss': 0.010100363, 'global_step': 1000}\n"
     ]
    }
   ],
   "source": [
    "# Here we evaluate how well our model did.\n",
    "train_metrics = estimator.evaluate(input_fn=train_input_fn)\n",
    "eval_metrics = estimator.evaluate(input_fn=eval_input_fn)\n",
    "print(\"train metrics: %r\"% train_metrics)\n",
    "print(\"eval metrics: %r\"% eval_metrics)"
   ]
  },
  {
   "cell_type": "code",
   "execution_count": null,
   "metadata": {
    "collapsed": true
   },
   "outputs": [],
   "source": []
  }
 ],
 "metadata": {
  "kernelspec": {
   "display_name": "Python 3",
   "language": "python",
   "name": "python3"
  },
  "language_info": {
   "codemirror_mode": {
    "name": "ipython",
    "version": 3
   },
   "file_extension": ".py",
   "mimetype": "text/x-python",
   "name": "python",
   "nbconvert_exporter": "python",
   "pygments_lexer": "ipython3",
   "version": "3.6.2"
  }
 },
 "nbformat": 4,
 "nbformat_minor": 2
}
