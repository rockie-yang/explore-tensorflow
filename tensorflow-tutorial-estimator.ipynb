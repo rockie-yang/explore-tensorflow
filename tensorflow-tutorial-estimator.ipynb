{
 "cells": [
  {
   "cell_type": "code",
   "execution_count": 2,
   "metadata": {},
   "outputs": [
    {
     "name": "stdout",
     "output_type": "stream",
     "text": [
      "INFO:tensorflow:Using default config.\n",
      "WARNING:tensorflow:Using temporary folder as model directory: /tmp/tmpyhe52zj3\n",
      "INFO:tensorflow:Using config: {'_model_dir': '/tmp/tmpyhe52zj3', '_tf_random_seed': 1, '_save_summary_steps': 100, '_save_checkpoints_secs': 600, '_save_checkpoints_steps': None, '_session_config': None, '_keep_checkpoint_max': 5, '_keep_checkpoint_every_n_hours': 10000, '_log_step_count_steps': 100}\n"
     ]
    }
   ],
   "source": [
    "# NumPy is often used to load, manipulate and preprocess data.\n",
    "import numpy as np\n",
    "import tensorflow as tf\n",
    "\n",
    "# Declare list of features. We only have one numeric feature. There are many\n",
    "# other types of columns that are more complicated and useful.\n",
    "feature_columns = [tf.feature_column.numeric_column(\"x\", shape=[1])]\n",
    "\n",
    "# An estimator is the front end to invoke training (fitting) and evaluation\n",
    "# (inference). There are many predefined types like linear regression,\n",
    "# linear classification, and many neural network classifiers and regressors.\n",
    "# The following code provides an estimator that does linear regression.\n",
    "estimator = tf.estimator.LinearRegressor(feature_columns=feature_columns)"
   ]
  },
  {
   "cell_type": "code",
   "execution_count": 3,
   "metadata": {
    "collapsed": true
   },
   "outputs": [],
   "source": [
    "# TensorFlow provides many helper methods to read and set up data sets.\n",
    "# Here we use two data sets: one for training and one for evaluation\n",
    "# We have to tell the function how many batches\n",
    "# of data (num_epochs) we want and how big each batch should be.\n",
    "x_train = np.array([1., 2., 3., 4.])\n",
    "y_train = np.array([0., -1., -2., -3.])\n",
    "x_eval = np.array([2., 5., 8., 1.])\n",
    "y_eval = np.array([-1.01, -4.1, -7, 0.])"
   ]
  },
  {
   "cell_type": "code",
   "execution_count": 4,
   "metadata": {
    "collapsed": true
   },
   "outputs": [],
   "source": [
    "input_fn = tf.estimator.inputs.numpy_input_fn(\n",
    "    {\"x\": x_train}, y_train, batch_size=4, num_epochs=None, shuffle=True)\n",
    "train_input_fn = tf.estimator.inputs.numpy_input_fn(\n",
    "    {\"x\": x_train}, y_train, batch_size=4, num_epochs=1000, shuffle=False)\n",
    "eval_input_fn = tf.estimator.inputs.numpy_input_fn(\n",
    "    {\"x\": x_eval}, y_eval, batch_size=4, num_epochs=1000, shuffle=False)"
   ]
  },
  {
   "cell_type": "code",
   "execution_count": 5,
   "metadata": {},
   "outputs": [
    {
     "name": "stdout",
     "output_type": "stream",
     "text": [
      "INFO:tensorflow:Create CheckpointSaverHook.\n",
      "INFO:tensorflow:Saving checkpoints for 1 into /tmp/tmpyhe52zj3/model.ckpt.\n",
      "INFO:tensorflow:loss = 23.0, step = 1\n",
      "INFO:tensorflow:global_step/sec: 1106.52\n",
      "INFO:tensorflow:loss = 0.482733, step = 101 (0.092 sec)\n",
      "INFO:tensorflow:global_step/sec: 900.353\n",
      "INFO:tensorflow:loss = 0.0583634, step = 201 (0.111 sec)\n",
      "INFO:tensorflow:global_step/sec: 1150.07\n",
      "INFO:tensorflow:loss = 0.0270203, step = 301 (0.088 sec)\n",
      "INFO:tensorflow:global_step/sec: 1204.8\n",
      "INFO:tensorflow:loss = 0.00782144, step = 401 (0.083 sec)\n",
      "INFO:tensorflow:global_step/sec: 1141.11\n",
      "INFO:tensorflow:loss = 0.00122652, step = 501 (0.087 sec)\n",
      "INFO:tensorflow:global_step/sec: 1218.71\n",
      "INFO:tensorflow:loss = 0.000528214, step = 601 (0.082 sec)\n",
      "INFO:tensorflow:global_step/sec: 1116.25\n",
      "INFO:tensorflow:loss = 0.000117864, step = 701 (0.089 sec)\n",
      "INFO:tensorflow:global_step/sec: 1185.16\n",
      "INFO:tensorflow:loss = 4.05112e-05, step = 801 (0.085 sec)\n",
      "INFO:tensorflow:global_step/sec: 1133.51\n",
      "INFO:tensorflow:loss = 3.63687e-05, step = 901 (0.088 sec)\n",
      "INFO:tensorflow:Saving checkpoints for 1000 into /tmp/tmpyhe52zj3/model.ckpt.\n",
      "INFO:tensorflow:Loss for final step: 5.90106e-06.\n"
     ]
    },
    {
     "data": {
      "text/plain": [
       "<tensorflow.python.estimator.canned.linear.LinearRegressor at 0x7f17123d66d8>"
      ]
     },
     "execution_count": 5,
     "metadata": {},
     "output_type": "execute_result"
    }
   ],
   "source": [
    "# We can invoke 1000 training steps by invoking the  method and passing the\n",
    "# training data set.\n",
    "estimator.train(input_fn=input_fn, steps=1000)"
   ]
  },
  {
   "cell_type": "code",
   "execution_count": 6,
   "metadata": {},
   "outputs": [
    {
     "name": "stdout",
     "output_type": "stream",
     "text": [
      "INFO:tensorflow:Starting evaluation at 2017-11-21-04:05:59\n",
      "INFO:tensorflow:Restoring parameters from /tmp/tmpyhe52zj3/model.ckpt-1000\n",
      "INFO:tensorflow:Finished evaluation at 2017-11-21-04:06:00\n",
      "INFO:tensorflow:Saving dict for global step 1000: average_loss = 1.3149e-06, global_step = 1000, loss = 5.25961e-06\n",
      "INFO:tensorflow:Starting evaluation at 2017-11-21-04:06:00\n",
      "INFO:tensorflow:Restoring parameters from /tmp/tmpyhe52zj3/model.ckpt-1000\n",
      "INFO:tensorflow:Finished evaluation at 2017-11-21-04:06:00\n",
      "INFO:tensorflow:Saving dict for global step 1000: average_loss = 0.00264166, global_step = 1000, loss = 0.0105666\n",
      "train metrics: {'average_loss': 1.3149022e-06, 'loss': 5.2596088e-06, 'global_step': 1000}\n",
      "eval metrics: {'average_loss': 0.0026416567, 'loss': 0.010566627, 'global_step': 1000}\n"
     ]
    }
   ],
   "source": [
    "# Here we evaluate how well our model did.\n",
    "train_metrics = estimator.evaluate(input_fn=train_input_fn)\n",
    "eval_metrics = estimator.evaluate(input_fn=eval_input_fn)\n",
    "print(\"train metrics: %r\"% train_metrics)\n",
    "print(\"eval metrics: %r\"% eval_metrics)"
   ]
  },
  {
   "cell_type": "code",
   "execution_count": null,
   "metadata": {
    "collapsed": true
   },
   "outputs": [],
   "source": []
  }
 ],
 "metadata": {
  "kernelspec": {
   "display_name": "Python 3",
   "language": "python",
   "name": "python3"
  },
  "language_info": {
   "codemirror_mode": {
    "name": "ipython",
    "version": 3
   },
   "file_extension": ".py",
   "mimetype": "text/x-python",
   "name": "python",
   "nbconvert_exporter": "python",
   "pygments_lexer": "ipython3",
   "version": "3.6.2"
  }
 },
 "nbformat": 4,
 "nbformat_minor": 2
}
